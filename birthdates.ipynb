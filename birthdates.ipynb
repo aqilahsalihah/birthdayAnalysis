{
 "cells": [
  {
   "cell_type": "code",
   "execution_count": 12,
   "metadata": {},
   "outputs": [],
   "source": [
    "import pandas as pd\n",
    "import seaborn as sns\n",
    "import matplotlib.pyplot as plt"
   ]
  },
  {
   "cell_type": "code",
   "execution_count": 13,
   "metadata": {},
   "outputs": [],
   "source": [
    "URL_DATA = 'https://storage.data.gov.my/demography/births.parquet'\n",
    "\n",
    "df = pd.read_parquet(URL_DATA)"
   ]
  },
  {
   "cell_type": "code",
   "execution_count": 14,
   "metadata": {},
   "outputs": [],
   "source": [
    "if 'date' in df.columns: df['date'] = pd.to_datetime(df['date'])\n",
    "df = df.drop('state', axis=1 )\n",
    "df = df.rename(columns={'date': 'birthdate'})"
   ]
  },
  {
   "cell_type": "code",
   "execution_count": 15,
   "metadata": {},
   "outputs": [
    {
     "name": "stdout",
     "output_type": "stream",
     "text": [
      "       birthdate  births\n",
      "0     1920-01-01      96\n",
      "1     1920-01-02     115\n",
      "2     1920-01-03     111\n",
      "3     1920-01-04     101\n",
      "4     1920-01-05      95\n",
      "...          ...     ...\n",
      "37828 2023-07-27    1199\n",
      "37829 2023-07-28    1220\n",
      "37830 2023-07-29     927\n",
      "37831 2023-07-30     938\n",
      "37832 2023-07-31    1098\n",
      "\n",
      "[37833 rows x 2 columns]\n"
     ]
    }
   ],
   "source": [
    "print(df)"
   ]
  },
  {
   "cell_type": "code",
   "execution_count": 18,
   "metadata": {},
   "outputs": [
    {
     "name": "stdout",
     "output_type": "stream",
     "text": [
      "       birthdate  year  month  date  births\n",
      "0     1920-01-01  1920      1     1      96\n",
      "1     1920-01-02  1920      1     2     115\n",
      "2     1920-01-03  1920      1     3     111\n",
      "3     1920-01-04  1920      1     4     101\n",
      "4     1920-01-05  1920      1     5      95\n",
      "...          ...   ...    ...   ...     ...\n",
      "37828 2023-07-27  2023      7    27    1199\n",
      "37829 2023-07-28  2023      7    28    1220\n",
      "37830 2023-07-29  2023      7    29     927\n",
      "37831 2023-07-30  2023      7    30     938\n",
      "37832 2023-07-31  2023      7    31    1098\n",
      "\n",
      "[37833 rows x 5 columns]\n"
     ]
    }
   ],
   "source": [
    "df['year'] = df['birthdate'].dt.year\n",
    "df['month'] = df['birthdate'].dt.month\n",
    "df['date'] = df['birthdate'].dt.day\n",
    "\n",
    "df = df[['birthdate', 'year', 'month', 'date', 'births']]\n",
    "print(df)"
   ]
  },
  {
   "cell_type": "code",
   "execution_count": 134,
   "metadata": {},
   "outputs": [],
   "source": [
    "# Define the birth year ranges for each generation\n",
    "generation_ranges = {\n",
    "    'all' : (1920, 2025),\n",
    "    'older' : (1920, 1980),\n",
    "    'younger' : (1981, 2022),\n",
    "    'silent': (1928, 1945), #17\n",
    "    'boomer': (1946, 1964), #18\n",
    "    'genX': (1965, 1980), #15\n",
    "    'genY': (1981, 1996), #15\n",
    "    'genZ': (1997, 2009), #12\n",
    "    'genAlpha': (2010, 2022)\n",
    "}\n",
    "\n",
    "# Create an empty dictionary to store subsets of DataFrame for each generation\n",
    "gen = {}\n",
    "\n",
    "# Loop through the generation ranges\n",
    "for generation, (start_year, end_year) in generation_ranges.items():\n",
    "    # Filter the DataFrame for the current generation\n",
    "    gen_df = df[(df['birthdate'].dt.year >= start_year) & (df['birthdate'].dt.year <= end_year)]\n",
    "    \n",
    "    # Store the subset DataFrame in the generations dictionary\n",
    "    gen[generation] = gen_df"
   ]
  },
  {
   "cell_type": "code",
   "execution_count": 131,
   "metadata": {},
   "outputs": [
    {
     "data": {
      "text/html": [
       "<div>\n",
       "<style scoped>\n",
       "    .dataframe tbody tr th:only-of-type {\n",
       "        vertical-align: middle;\n",
       "    }\n",
       "\n",
       "    .dataframe tbody tr th {\n",
       "        vertical-align: top;\n",
       "    }\n",
       "\n",
       "    .dataframe thead th {\n",
       "        text-align: right;\n",
       "    }\n",
       "</style>\n",
       "<table border=\"1\" class=\"dataframe\">\n",
       "  <thead>\n",
       "    <tr style=\"text-align: right;\">\n",
       "      <th></th>\n",
       "      <th>birthdate</th>\n",
       "      <th>year</th>\n",
       "      <th>month</th>\n",
       "      <th>date</th>\n",
       "      <th>births</th>\n",
       "    </tr>\n",
       "  </thead>\n",
       "  <tbody>\n",
       "    <tr>\n",
       "      <th>32873</th>\n",
       "      <td>2010-01-01</td>\n",
       "      <td>2010</td>\n",
       "      <td>1</td>\n",
       "      <td>1</td>\n",
       "      <td>1401</td>\n",
       "    </tr>\n",
       "    <tr>\n",
       "      <th>32874</th>\n",
       "      <td>2010-01-02</td>\n",
       "      <td>2010</td>\n",
       "      <td>1</td>\n",
       "      <td>2</td>\n",
       "      <td>1308</td>\n",
       "    </tr>\n",
       "    <tr>\n",
       "      <th>32875</th>\n",
       "      <td>2010-01-03</td>\n",
       "      <td>2010</td>\n",
       "      <td>1</td>\n",
       "      <td>3</td>\n",
       "      <td>1346</td>\n",
       "    </tr>\n",
       "    <tr>\n",
       "      <th>32876</th>\n",
       "      <td>2010-01-04</td>\n",
       "      <td>2010</td>\n",
       "      <td>1</td>\n",
       "      <td>4</td>\n",
       "      <td>1426</td>\n",
       "    </tr>\n",
       "    <tr>\n",
       "      <th>32877</th>\n",
       "      <td>2010-01-05</td>\n",
       "      <td>2010</td>\n",
       "      <td>1</td>\n",
       "      <td>5</td>\n",
       "      <td>1450</td>\n",
       "    </tr>\n",
       "    <tr>\n",
       "      <th>...</th>\n",
       "      <td>...</td>\n",
       "      <td>...</td>\n",
       "      <td>...</td>\n",
       "      <td>...</td>\n",
       "      <td>...</td>\n",
       "    </tr>\n",
       "    <tr>\n",
       "      <th>37616</th>\n",
       "      <td>2022-12-27</td>\n",
       "      <td>2022</td>\n",
       "      <td>12</td>\n",
       "      <td>27</td>\n",
       "      <td>1168</td>\n",
       "    </tr>\n",
       "    <tr>\n",
       "      <th>37617</th>\n",
       "      <td>2022-12-28</td>\n",
       "      <td>2022</td>\n",
       "      <td>12</td>\n",
       "      <td>28</td>\n",
       "      <td>1293</td>\n",
       "    </tr>\n",
       "    <tr>\n",
       "      <th>37618</th>\n",
       "      <td>2022-12-29</td>\n",
       "      <td>2022</td>\n",
       "      <td>12</td>\n",
       "      <td>29</td>\n",
       "      <td>1237</td>\n",
       "    </tr>\n",
       "    <tr>\n",
       "      <th>37619</th>\n",
       "      <td>2022-12-30</td>\n",
       "      <td>2022</td>\n",
       "      <td>12</td>\n",
       "      <td>30</td>\n",
       "      <td>1168</td>\n",
       "    </tr>\n",
       "    <tr>\n",
       "      <th>37620</th>\n",
       "      <td>2022-12-31</td>\n",
       "      <td>2022</td>\n",
       "      <td>12</td>\n",
       "      <td>31</td>\n",
       "      <td>1093</td>\n",
       "    </tr>\n",
       "  </tbody>\n",
       "</table>\n",
       "<p>4748 rows × 5 columns</p>\n",
       "</div>"
      ],
      "text/plain": [
       "       birthdate  year  month  date  births\n",
       "32873 2010-01-01  2010      1     1    1401\n",
       "32874 2010-01-02  2010      1     2    1308\n",
       "32875 2010-01-03  2010      1     3    1346\n",
       "32876 2010-01-04  2010      1     4    1426\n",
       "32877 2010-01-05  2010      1     5    1450\n",
       "...          ...   ...    ...   ...     ...\n",
       "37616 2022-12-27  2022     12    27    1168\n",
       "37617 2022-12-28  2022     12    28    1293\n",
       "37618 2022-12-29  2022     12    29    1237\n",
       "37619 2022-12-30  2022     12    30    1168\n",
       "37620 2022-12-31  2022     12    31    1093\n",
       "\n",
       "[4748 rows x 5 columns]"
      ]
     },
     "execution_count": 131,
     "metadata": {},
     "output_type": "execute_result"
    }
   ],
   "source": [
    "gen['genAlpha']"
   ]
  },
  {
   "cell_type": "code",
   "execution_count": 45,
   "metadata": {},
   "outputs": [],
   "source": [
    "def generate_heatmap(genName):\n",
    "    # Generate pivot table for the specified generation\n",
    "    pivot_table = gen[genName].pivot_table(index='month', columns='date', values='births', aggfunc='sum')\n",
    "    \n",
    "    # Create the heatmap\n",
    "    plt.figure(figsize=(10, 6))\n",
    "    sns.heatmap(pivot_table, cmap='Blues', annot=False, robust=True)\n",
    "    plt.title(f'Heatmap of Birthdates for {genName} by Date and Month')\n",
    "    plt.xlabel('Date')\n",
    "    plt.ylabel('Month')\n",
    "    plt.show()"
   ]
  },
  {
   "cell_type": "code",
   "execution_count": 82,
   "metadata": {},
   "outputs": [],
   "source": [
    "def top_birthdates(genName, N):\n",
    "    top_N = gen[genName].sort_values(by='births', ascending=False).head(N)\n",
    "    return top_N"
   ]
  },
  {
   "cell_type": "code",
   "execution_count": 93,
   "metadata": {},
   "outputs": [],
   "source": [
    "def rarest_birthdates(genName, N):\n",
    "    rare_N = gen[genName].sort_values(by='births', ascending=True).head(N)\n",
    "    return rare_N"
   ]
  },
  {
   "cell_type": "code",
   "execution_count": 126,
   "metadata": {},
   "outputs": [
    {
     "data": {
      "text/plain": [
       "32362   2008-08-08\n",
       "Name: birthdate, dtype: datetime64[ns]"
      ]
     },
     "execution_count": 126,
     "metadata": {},
     "output_type": "execute_result"
    }
   ],
   "source": [
    "most_popular = top_birthdates('genZ', 1)\n",
    "most_popular['birthdate']"
   ]
  },
  {
   "cell_type": "code",
   "execution_count": 127,
   "metadata": {},
   "outputs": [
    {
     "data": {
      "text/html": [
       "<div>\n",
       "<style scoped>\n",
       "    .dataframe tbody tr th:only-of-type {\n",
       "        vertical-align: middle;\n",
       "    }\n",
       "\n",
       "    .dataframe tbody tr th {\n",
       "        vertical-align: top;\n",
       "    }\n",
       "\n",
       "    .dataframe thead th {\n",
       "        text-align: right;\n",
       "    }\n",
       "</style>\n",
       "<table border=\"1\" class=\"dataframe\">\n",
       "  <thead>\n",
       "    <tr style=\"text-align: right;\">\n",
       "      <th></th>\n",
       "      <th>Generation</th>\n",
       "      <th>Most Popular</th>\n",
       "      <th>Rarest</th>\n",
       "    </tr>\n",
       "  </thead>\n",
       "  <tbody>\n",
       "    <tr>\n",
       "      <th>0</th>\n",
       "      <td>all</td>\n",
       "      <td>[1936-12-31]</td>\n",
       "      <td>[1922-12-25]</td>\n",
       "    </tr>\n",
       "    <tr>\n",
       "      <th>1</th>\n",
       "      <td>silent</td>\n",
       "      <td>[1936-12-31]</td>\n",
       "      <td>[1928-12-25]</td>\n",
       "    </tr>\n",
       "    <tr>\n",
       "      <th>2</th>\n",
       "      <td>boomer</td>\n",
       "      <td>[1949-12-31]</td>\n",
       "      <td>[1946-02-23]</td>\n",
       "    </tr>\n",
       "    <tr>\n",
       "      <th>3</th>\n",
       "      <td>genX</td>\n",
       "      <td>[1969-01-01]</td>\n",
       "      <td>[1967-12-22]</td>\n",
       "    </tr>\n",
       "    <tr>\n",
       "      <th>4</th>\n",
       "      <td>genY</td>\n",
       "      <td>[1986-01-01]</td>\n",
       "      <td>[1983-12-26]</td>\n",
       "    </tr>\n",
       "    <tr>\n",
       "      <th>5</th>\n",
       "      <td>genZ</td>\n",
       "      <td>[2008-08-08]</td>\n",
       "      <td>[2003-02-02]</td>\n",
       "    </tr>\n",
       "    <tr>\n",
       "      <th>6</th>\n",
       "      <td>genAlpha</td>\n",
       "      <td>[2011-11-11]</td>\n",
       "      <td>[2022-05-02]</td>\n",
       "    </tr>\n",
       "  </tbody>\n",
       "</table>\n",
       "</div>"
      ],
      "text/plain": [
       "  Generation  Most Popular        Rarest\n",
       "0        all  [1936-12-31]  [1922-12-25]\n",
       "1     silent  [1936-12-31]  [1928-12-25]\n",
       "2     boomer  [1949-12-31]  [1946-02-23]\n",
       "3       genX  [1969-01-01]  [1967-12-22]\n",
       "4       genY  [1986-01-01]  [1983-12-26]\n",
       "5       genZ  [2008-08-08]  [2003-02-02]\n",
       "6   genAlpha  [2011-11-11]  [2022-05-02]"
      ]
     },
     "execution_count": 127,
     "metadata": {},
     "output_type": "execute_result"
    }
   ],
   "source": [
    "generation_summary = pd.DataFrame(columns=['Generation', 'Most Popular', 'Rarest'])\n",
    "\n",
    "for i in gen:\n",
    "    most_popular = top_birthdates(i, 1)['birthdate'].dt.date.tolist()\n",
    "    rarest = rarest_birthdates(i, 1)['birthdate'].dt.date.tolist()\n",
    "    \n",
    "    generation_summary.loc[len(generation_summary)] = [i, most_popular, rarest]\n",
    "\n",
    "generation_summary"
   ]
  },
  {
   "cell_type": "code",
   "execution_count": null,
   "metadata": {},
   "outputs": [],
   "source": [
    "for i in gen:\n",
    "    print('\\n' + i)\n",
    "    print(rarest_birthdates(i, 10))\n",
    "    "
   ]
  },
  {
   "cell_type": "code",
   "execution_count": 135,
   "metadata": {},
   "outputs": [
    {
     "data": {
      "image/png": "[encoded data removed]",
      "text/plain": [
       "<Figure size 1000x600 with 2 Axes>"
      ]
     },
     "metadata": {},
     "output_type": "display_data"
    }
   ],
   "source": [
    "generate_heatmap('older')"
   ]
  },
  {
   "cell_type": "code",
   "execution_count": 136,
   "metadata": {},
   "outputs": [
    {
     "data": {
      "image/png": "[encoded data removed]",
      "text/plain": [
       "<Figure size 1000x600 with 2 Axes>"
      ]
     },
     "metadata": {},
     "output_type": "display_data"
    }
   ],
   "source": [
    "generate_heatmap('younger')"
   ]
  },
  {
   "cell_type": "code",
   "execution_count": 139,
   "metadata": {},
   "outputs": [],
   "source": [
    "top_popular_genY = top_birthdates('genY', 5)\n",
    "\n",
    "plt.figure(12, 8)\n",
    "plt.bar(top_popular_genY['birthdate'].astype(str), )\n"
   ]
  },
  {
   "cell_type": "markdown",
   "metadata": {},
   "source": [
    "popular birthdates \n",
    "    all\n",
    "    genZ\n",
    "    milleneal\n",
    "\n",
    "rarest birthdates\n",
    "    all \n",
    "    genz\n",
    "    mill\n"
   ]
  }
 ],
 "metadata": {
  "kernelspec": {
   "display_name": "Python 3",
   "language": "python",
   "name": "python3"
  },
  "language_info": {
   "codemirror_mode": {
    "name": "ipython",
    "version": 3
   },
   "file_extension": ".py",
   "mimetype": "text/x-python",
   "name": "python",
   "nbconvert_exporter": "python",
   "pygments_lexer": "ipython3",
   "version": "3.11.3"
  }
 },
 "nbformat": 4,
 "nbformat_minor": 2
}
